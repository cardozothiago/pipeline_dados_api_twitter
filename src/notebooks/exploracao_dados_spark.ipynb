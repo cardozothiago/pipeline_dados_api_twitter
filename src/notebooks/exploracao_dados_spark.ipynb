{
  "nbformat": 4,
  "nbformat_minor": 0,
  "metadata": {
    "colab": {
      "provenance": []
    },
    "kernelspec": {
      "name": "python3",
      "display_name": "Python 3"
    },
    "language_info": {
      "name": "python"
    }
  },
  "cells": [
    {
      "cell_type": "code",
      "source": [
        "!apt-get install openjdk-11-jdk-headless -qq > /dev/null\n",
        "!pip install -q findspark pyspark\n",
        "!pip install pyspark==3.3.1"
      ],
      "metadata": {
        "colab": {
          "base_uri": "https://localhost:8080/"
        },
        "id": "mQE3VdHBavO-",
        "outputId": "7c096aea-08d1-48c6-c83a-f25dd45981f4"
      },
      "execution_count": 3,
      "outputs": [
        {
          "output_type": "stream",
          "name": "stdout",
          "text": [
            "Requirement already satisfied: pyspark==3.3.1 in /usr/local/lib/python3.12/dist-packages (3.3.1)\n",
            "Requirement already satisfied: py4j==0.10.9.5 in /usr/local/lib/python3.12/dist-packages (from pyspark==3.3.1) (0.10.9.5)\n"
          ]
        }
      ]
    },
    {
      "cell_type": "code",
      "source": [
        "from pyspark.sql import SparkSession\n",
        "spark = SparkSession\\\n",
        "    .builder\\\n",
        "    .appName(\"api_transformation\")\\\n",
        "    .getOrCreate()\n",
        "spark"
      ],
      "metadata": {
        "colab": {
          "base_uri": "https://localhost:8080/",
          "height": 219
        },
        "id": "QKTUxqrfbAQ1",
        "outputId": "c04318f3-0774-4203-eb4f-ca75161186f0"
      },
      "execution_count": 5,
      "outputs": [
        {
          "output_type": "execute_result",
          "data": {
            "text/plain": [
              "<pyspark.sql.session.SparkSession at 0x7acd6a267bc0>"
            ],
            "text/html": [
              "\n",
              "            <div>\n",
              "                <p><b>SparkSession - in-memory</b></p>\n",
              "                \n",
              "        <div>\n",
              "            <p><b>SparkContext</b></p>\n",
              "\n",
              "            <p><a href=\"http://0426512643cf:4040\">Spark UI</a></p>\n",
              "\n",
              "            <dl>\n",
              "              <dt>Version</dt>\n",
              "                <dd><code>v3.3.1</code></dd>\n",
              "              <dt>Master</dt>\n",
              "                <dd><code>local[*]</code></dd>\n",
              "              <dt>AppName</dt>\n",
              "                <dd><code>api_transformation</code></dd>\n",
              "            </dl>\n",
              "        </div>\n",
              "        \n",
              "            </div>\n",
              "        "
            ]
          },
          "metadata": {},
          "execution_count": 5
        }
      ]
    },
    {
      "cell_type": "code",
      "source": [
        "df = spark.read.json(\"/content/datalake/twitter_datascience\")\n",
        "df.show()"
      ],
      "metadata": {
        "colab": {
          "base_uri": "https://localhost:8080/"
        },
        "id": "Y29Xsw1rcckd",
        "outputId": "d9339ba2-ddb3-4d36-ee81-dedf07dcfac7"
      },
      "execution_count": 6,
      "outputs": [
        {
          "output_type": "stream",
          "name": "stdout",
          "text": [
            "+--------------------+--------------------+------------------+------------+\n",
            "|                data|            includes|              meta|extract_date|\n",
            "+--------------------+--------------------+------------------+------------+\n",
            "|[{11, 53, 2025-10...|{[{2025-10-03T00:...|{1234567890abcdef}|  2025-10-03|\n",
            "|[{59, 83, 2025-10...|{[{2025-10-03T00:...|{1234567890abcdef}|  2025-10-03|\n",
            "|[{7, 17, 2025-10-...|{[{2025-10-03T00:...|{1234567890abcdef}|  2025-10-03|\n",
            "|[{37, 4, 2025-10-...|{[{2025-10-03T00:...|{1234567890abcdef}|  2025-10-03|\n",
            "|[{53, 48, 2025-10...|{[{2025-10-03T00:...|              null|  2025-10-03|\n",
            "|[{80, 46, 2025-10...|{[{2025-10-04T00:...|{1234567890abcdef}|  2025-10-04|\n",
            "|[{65, 35, 2025-10...|{[{2025-10-04T00:...|{1234567890abcdef}|  2025-10-04|\n",
            "|[{24, 69, 2025-10...|{[{2025-10-04T00:...|              null|  2025-10-04|\n",
            "|[{38, 89, 2025-10...|{[{2025-10-05T00:...|{1234567890abcdef}|  2025-10-05|\n",
            "|[{81, 77, 2025-10...|{[{2025-10-05T00:...|              null|  2025-10-05|\n",
            "|[{11, 54, 2025-10...|{[{2025-10-01T00:...|{1234567890abcdef}|  2025-10-01|\n",
            "|[{92, 46, 2025-10...|{[{2025-10-01T00:...|              null|  2025-10-01|\n",
            "|[{14, 18, 2025-10...|{[{2025-10-06T00:...|              null|  2025-10-06|\n",
            "|[{83, 1, 2025-10-...|{[{2025-10-02T00:...|              null|  2025-10-02|\n",
            "+--------------------+--------------------+------------------+------------+\n",
            "\n"
          ]
        }
      ]
    },
    {
      "cell_type": "code",
      "source": [
        "df.printSchema()"
      ],
      "metadata": {
        "colab": {
          "base_uri": "https://localhost:8080/"
        },
        "id": "GgV9cklycxGV",
        "outputId": "8b39a7d1-4c98-4384-b9dc-666a9eb16fc0"
      },
      "execution_count": 7,
      "outputs": [
        {
          "output_type": "stream",
          "name": "stdout",
          "text": [
            "root\n",
            " |-- data: array (nullable = true)\n",
            " |    |-- element: struct (containsNull = true)\n",
            " |    |    |-- author_id: string (nullable = true)\n",
            " |    |    |-- conversation_id: string (nullable = true)\n",
            " |    |    |-- created_at: string (nullable = true)\n",
            " |    |    |-- edit_history_tweet_ids: array (nullable = true)\n",
            " |    |    |    |-- element: long (containsNull = true)\n",
            " |    |    |-- id: string (nullable = true)\n",
            " |    |    |-- in_reply_to_user_id: string (nullable = true)\n",
            " |    |    |-- lang: string (nullable = true)\n",
            " |    |    |-- public_metrics: struct (nullable = true)\n",
            " |    |    |    |-- like_count: long (nullable = true)\n",
            " |    |    |    |-- quote_count: long (nullable = true)\n",
            " |    |    |    |-- reply_count: long (nullable = true)\n",
            " |    |    |    |-- retweet_count: long (nullable = true)\n",
            " |    |    |-- text: string (nullable = true)\n",
            " |-- includes: struct (nullable = true)\n",
            " |    |-- users: array (nullable = true)\n",
            " |    |    |-- element: struct (containsNull = true)\n",
            " |    |    |    |-- created_at: string (nullable = true)\n",
            " |    |    |    |-- id: string (nullable = true)\n",
            " |    |    |    |-- name: string (nullable = true)\n",
            " |    |    |    |-- username: string (nullable = true)\n",
            " |-- meta: struct (nullable = true)\n",
            " |    |-- next_token: string (nullable = true)\n",
            " |-- extract_date: date (nullable = true)\n",
            "\n"
          ]
        }
      ]
    },
    {
      "cell_type": "code",
      "source": [
        "from pyspark.sql import functions as f\n",
        "df.select(f.explode(\"data\")).printSchema()\n",
        "df.select(f.explode(\"data\")).show()"
      ],
      "metadata": {
        "colab": {
          "base_uri": "https://localhost:8080/"
        },
        "id": "ZFXi4k6DdLeo",
        "outputId": "21ffa819-8a79-4c43-b17c-a8050b73f4de"
      },
      "execution_count": 9,
      "outputs": [
        {
          "output_type": "stream",
          "name": "stdout",
          "text": [
            "root\n",
            " |-- col: struct (nullable = true)\n",
            " |    |-- author_id: string (nullable = true)\n",
            " |    |-- conversation_id: string (nullable = true)\n",
            " |    |-- created_at: string (nullable = true)\n",
            " |    |-- edit_history_tweet_ids: array (nullable = true)\n",
            " |    |    |-- element: long (containsNull = true)\n",
            " |    |-- id: string (nullable = true)\n",
            " |    |-- in_reply_to_user_id: string (nullable = true)\n",
            " |    |-- lang: string (nullable = true)\n",
            " |    |-- public_metrics: struct (nullable = true)\n",
            " |    |    |-- like_count: long (nullable = true)\n",
            " |    |    |-- quote_count: long (nullable = true)\n",
            " |    |    |-- reply_count: long (nullable = true)\n",
            " |    |    |-- retweet_count: long (nullable = true)\n",
            " |    |-- text: string (nullable = true)\n",
            "\n",
            "+--------------------+\n",
            "|                 col|\n",
            "+--------------------+\n",
            "|{11, 53, 2025-10-...|\n",
            "|{55, 20, 2025-10-...|\n",
            "|{44, 29, 2025-10-...|\n",
            "|{36, 15, 2025-10-...|\n",
            "|{21, 80, 2025-10-...|\n",
            "|{39, 9, 2025-10-0...|\n",
            "|{7, 5, 2025-10-03...|\n",
            "|{51, 93, 2025-10-...|\n",
            "|{15, 13, 2025-10-...|\n",
            "|{52, 71, 2025-10-...|\n",
            "|{59, 83, 2025-10-...|\n",
            "|{30, 23, 2025-10-...|\n",
            "|{15, 32, 2025-10-...|\n",
            "|{59, 63, 2025-10-...|\n",
            "|{97, 65, 2025-10-...|\n",
            "|{32, 40, 2025-10-...|\n",
            "|{73, 8, 2025-10-0...|\n",
            "|{60, 72, 2025-10-...|\n",
            "|{67, 92, 2025-10-...|\n",
            "|{27, 82, 2025-10-...|\n",
            "+--------------------+\n",
            "only showing top 20 rows\n",
            "\n"
          ]
        }
      ]
    },
    {
      "cell_type": "code",
      "source": [
        "df.select(f.explode(\"data\").alias(\"tweets\"))\\\n",
        ".select(\"tweets.author_id\", \"tweets.conversation_id\",\n",
        "        \"tweets.created_at\", \"tweets.id\",\n",
        "        \"tweets.public_metrics.*\", \"tweets.text\").printSchema()"
      ],
      "metadata": {
        "colab": {
          "base_uri": "https://localhost:8080/"
        },
        "id": "BEWzXgxPd3nr",
        "outputId": "a483965a-9a13-4cce-8cdb-ae141d32f795"
      },
      "execution_count": 13,
      "outputs": [
        {
          "output_type": "stream",
          "name": "stdout",
          "text": [
            "root\n",
            " |-- author_id: string (nullable = true)\n",
            " |-- conversation_id: string (nullable = true)\n",
            " |-- created_at: string (nullable = true)\n",
            " |-- id: string (nullable = true)\n",
            " |-- like_count: long (nullable = true)\n",
            " |-- quote_count: long (nullable = true)\n",
            " |-- reply_count: long (nullable = true)\n",
            " |-- retweet_count: long (nullable = true)\n",
            " |-- text: string (nullable = true)\n",
            "\n"
          ]
        }
      ]
    },
    {
      "cell_type": "code",
      "source": [
        "tweet_df = df.select(f.explode(\"data\").alias(\"tweets\"))\\\n",
        "  .select(\"tweets.author_id\", \"tweets.conversation_id\",\n",
        "        \"tweets.created_at\", \"tweets.id\",\n",
        "        \"tweets.public_metrics.*\", \"tweets.text\")\n",
        "\n",
        "tweet_df.show(5)"
      ],
      "metadata": {
        "colab": {
          "base_uri": "https://localhost:8080/"
        },
        "id": "YnYtZO0Hejou",
        "outputId": "a18ecb10-d0ff-445b-b9e3-b8e246faf94e"
      },
      "execution_count": 14,
      "outputs": [
        {
          "output_type": "stream",
          "name": "stdout",
          "text": [
            "+---------+---------------+--------------------+---+----------+-----------+-----------+-------------+--------------------+\n",
            "|author_id|conversation_id|          created_at| id|like_count|quote_count|reply_count|retweet_count|                text|\n",
            "+---------+---------------+--------------------+---+----------+-----------+-----------+-------------+--------------------+\n",
            "|       11|             53|2025-10-03T00:00:...| 74|        46|         68|         69|           97|Tweet fictício cr...|\n",
            "|       55|             20|2025-10-03T00:00:...| 64|        67|         41|         39|           26|Este é um tweet f...|\n",
            "|       44|             29|2025-10-03T00:00:...| 31|        34|         68|         50|            9|Um terceiro tweet...|\n",
            "|       36|             15|2025-10-03T00:00:...| 61|        33|         39|         93|           44|Um terceiro tweet...|\n",
            "|       21|             80|2025-10-03T00:00:...| 68|        15|         81|        100|           86|Outro tweet fictí...|\n",
            "+---------+---------------+--------------------+---+----------+-----------+-----------+-------------+--------------------+\n",
            "only showing top 5 rows\n",
            "\n"
          ]
        }
      ]
    },
    {
      "cell_type": "code",
      "source": [
        "df.select(f.explode(\"includes.users\").alias(\"users\")).select(\"users.*\").printSchema()"
      ],
      "metadata": {
        "colab": {
          "base_uri": "https://localhost:8080/"
        },
        "id": "7mDNjkXme6t3",
        "outputId": "f846402e-9507-4663-c392-9e43aeaaa0b1"
      },
      "execution_count": 19,
      "outputs": [
        {
          "output_type": "stream",
          "name": "stdout",
          "text": [
            "root\n",
            " |-- created_at: string (nullable = true)\n",
            " |-- id: string (nullable = true)\n",
            " |-- name: string (nullable = true)\n",
            " |-- username: string (nullable = true)\n",
            "\n"
          ]
        }
      ]
    },
    {
      "cell_type": "code",
      "source": [
        "user_df = df.select(f.explode(\"includes.users\").alias(\"users\")).select(\"users.*\")\n",
        "user_df.show(5)"
      ],
      "metadata": {
        "colab": {
          "base_uri": "https://localhost:8080/"
        },
        "id": "U5f5brJNfJ2m",
        "outputId": "fe818168-6101-4d28-9190-1db41b993cac"
      },
      "execution_count": 20,
      "outputs": [
        {
          "output_type": "stream",
          "name": "stdout",
          "text": [
            "+--------------------+---+------+--------+\n",
            "|          created_at| id|  name|username|\n",
            "+--------------------+---+------+--------+\n",
            "|2025-10-03T00:00:...| 94|User 1|   user1|\n",
            "|2025-10-03T00:00:...| 85|User 2|   user2|\n",
            "|2025-10-03T00:00:...| 26|User 3|   user3|\n",
            "|2025-10-03T00:00:...| 64|User 4|   user4|\n",
            "|2025-10-03T00:00:...| 33|User 5|   user5|\n",
            "+--------------------+---+------+--------+\n",
            "only showing top 5 rows\n",
            "\n"
          ]
        }
      ]
    },
    {
      "cell_type": "code",
      "source": [
        "tweet_df.coalesce(1).write.mode('overwrite').json('/content/output/tweet')\n",
        "user_df.coalesce(1).write.mode('overwrite').json('/content/output/user')"
      ],
      "metadata": {
        "id": "UPI_MvtrgbkR"
      },
      "execution_count": 28,
      "outputs": []
    }
  ]
}